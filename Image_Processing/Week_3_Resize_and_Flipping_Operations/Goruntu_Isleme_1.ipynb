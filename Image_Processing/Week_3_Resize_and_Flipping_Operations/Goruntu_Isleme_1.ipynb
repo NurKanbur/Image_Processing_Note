{
 "cells": [
  {
   "cell_type": "code",
   "execution_count": 1,
   "id": "ac5c1d86-4579-4b37-b14f-9970b2f0364c",
   "metadata": {},
   "outputs": [],
   "source": [
    "import cv2\n",
    "import numpy as np"
   ]
  },
  {
   "cell_type": "code",
   "execution_count": 2,
   "id": "b48e8312-0b9b-4342-851a-9e332e10c510",
   "metadata": {},
   "outputs": [],
   "source": [
    "my_img = cv2.imread(\"./kivi.jpg\",1)"
   ]
  },
  {
   "cell_type": "code",
   "execution_count": 3,
   "id": "6d603246-ea12-4ee1-8ed3-539233cc94da",
   "metadata": {},
   "outputs": [
    {
     "data": {
      "text/plain": [
       "(600, 800, 3)"
      ]
     },
     "execution_count": 3,
     "metadata": {},
     "output_type": "execute_result"
    }
   ],
   "source": [
    "my_img.shape"
   ]
  },
  {
   "cell_type": "code",
   "execution_count": 4,
   "id": "4d40e155-c9ed-4983-82fc-968e6bf2f1e6",
   "metadata": {},
   "outputs": [],
   "source": [
    "cv2.imshow(\"RGB Image\",my_img)\n",
    "cv2.waitKey(0)\n",
    "cv2.destroyAllWindows()"
   ]
  },
  {
   "cell_type": "code",
   "execution_count": 5,
   "id": "c62e5181-fea7-4acf-8cfa-107e83f02f7e",
   "metadata": {},
   "outputs": [],
   "source": [
    "#flipping (dönüştürme işlemleri)\n",
    "#flipping bir görüntüyü hem yatay hem dikey olarak 189 derece döndürmeye yarar."
   ]
  },
  {
   "cell_type": "code",
   "execution_count": 6,
   "id": "94cc81ff-8284-4717-9164-03bf7c9e2b8a",
   "metadata": {},
   "outputs": [],
   "source": [
    "vertical_img = cv2.flip(my_img, 0)\n",
    "horizontal_img = cv2.flip(my_img, 1)\n",
    "both_img = cv2.flip(my_img, -1)"
   ]
  },
  {
   "cell_type": "code",
   "execution_count": 7,
   "id": "e875ad10-2c09-4d8a-8d4a-53b8147fc763",
   "metadata": {},
   "outputs": [
    {
     "data": {
      "text/plain": [
       "array([[[109, 215, 186]]], dtype=uint8)"
      ]
     },
     "execution_count": 7,
     "metadata": {},
     "output_type": "execute_result"
    }
   ],
   "source": [
    "my_img[:1,:1,:]"
   ]
  },
  {
   "cell_type": "code",
   "execution_count": 8,
   "id": "5376eb65-3106-4bb8-a9ca-ff1d0d214d72",
   "metadata": {},
   "outputs": [],
   "source": [
    "cv2.imshow(\"Original Image\",my_img)\n",
    "cv2.imshow(\"vertical_img\",vertical_img)\n",
    "cv2.imshow(\"horizontal_img\",horizontal_img)\n",
    "cv2.imshow(\"both_img\",both_img)\n",
    "cv2.waitKey(0)\n",
    "cv2.destroyAllWindows()"
   ]
  },
  {
   "cell_type": "code",
   "execution_count": 9,
   "id": "c61bcb63-5782-4d03-beac-33b128e3609b",
   "metadata": {},
   "outputs": [
    {
     "data": {
      "text/plain": [
       "numpy.ndarray"
      ]
     },
     "execution_count": 9,
     "metadata": {},
     "output_type": "execute_result"
    }
   ],
   "source": [
    "type(my_img)"
   ]
  },
  {
   "cell_type": "code",
   "execution_count": 11,
   "id": "36b1e927-96be-44e1-850d-4e1167728d42",
   "metadata": {},
   "outputs": [],
   "source": [
    "new_vertical_img = my_img[::-1,:,:]\n",
    "new_horizontal_img = my_img[:,::-1,:]\n",
    "new_both_img = my_img[::-1,::-1,:]\n",
    "\n",
    "cv2.imshow(\"Original Image\",my_img)\n",
    "cv2.imshow(\"vertical_img\",new_vertical_img)\n",
    "cv2.imshow(\"horizontal_img\",new_horizontal_img)\n",
    "cv2.imshow(\"both_img\",new_both_img)\n",
    "cv2.waitKey(0)\n",
    "cv2.destroyAllWindows()"
   ]
  },
  {
   "cell_type": "code",
   "execution_count": 15,
   "id": "88f57431-91de-4fcf-a85c-5cb63b651f33",
   "metadata": {},
   "outputs": [],
   "source": [
    "#Küçültme\n",
    "my_resized_img = cv2.resize(my_img,(600,400),cv2.INTER_LANCZOS4)\n",
    "cv2.imshow(\"Resize\",my_resized_img)\n",
    "cv2.waitKey(0)\n",
    "cv2.destroyAllWindows()"
   ]
  },
  {
   "cell_type": "code",
   "execution_count": 18,
   "id": "2cd16b65-b413-429f-a0e5-278ecb14aa32",
   "metadata": {},
   "outputs": [],
   "source": [
    "#Büyütme\n",
    "my_resized_img = cv2.resize(my_img,(1000,700),cv2.INTER_LANCZOS4)\n",
    "cv2.imshow(\"Resize\",my_resized_img)\n",
    "cv2.waitKey(0)\n",
    "cv2.destroyAllWindows()"
   ]
  },
  {
   "cell_type": "code",
   "execution_count": 19,
   "id": "1b59ac80-945b-45e8-a899-dfa9fef3725c",
   "metadata": {},
   "outputs": [
    {
     "data": {
      "text/plain": [
       "True"
      ]
     },
     "execution_count": 19,
     "metadata": {},
     "output_type": "execute_result"
    }
   ],
   "source": [
    "cv2.imwrite(\"./resized_img_output.jpg\",my_resized_img)"
   ]
  },
  {
   "cell_type": "code",
   "execution_count": null,
   "id": "8c5ee4fc-aee3-4868-b939-545f6c6ba2c3",
   "metadata": {},
   "outputs": [],
   "source": []
  }
 ],
 "metadata": {
  "kernelspec": {
   "display_name": "new_env_py",
   "language": "python",
   "name": "new_env_py"
  },
  "language_info": {
   "codemirror_mode": {
    "name": "ipython",
    "version": 3
   },
   "file_extension": ".py",
   "mimetype": "text/x-python",
   "name": "python",
   "nbconvert_exporter": "python",
   "pygments_lexer": "ipython3",
   "version": "3.9.19"
  }
 },
 "nbformat": 4,
 "nbformat_minor": 5
}
